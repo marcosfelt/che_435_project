{
 "cells": [
  {
   "cell_type": "markdown",
   "metadata": {},
   "source": [
    "## Constants"
   ]
  },
  {
   "cell_type": "code",
   "execution_count": 2,
   "metadata": {},
   "outputs": [],
   "source": [
    "import pandas as pd\n",
    "import numpy as np\n",
    "from scipy.optimize import curve_fit\n",
    "import matplotlib.pyplot as plt\n",
    "\n",
    "V = 1750 #mL\n",
    "T1 = 62.1 #deg F\n",
    "T2 = 145.8 #deg F\n"
   ]
  },
  {
   "cell_type": "code",
   "execution_count": 3,
   "metadata": {},
   "outputs": [],
   "source": [
    "#Important functions\n",
    "\n",
    "def actuator_to_rotameter(opening):\n",
    "    openings = [0,20,25,35,40]\n",
    "    index =   openings.index(opening)\n",
    "    rotameters = [0,18.5,35,60,72]\n",
    "    return rotameters[index]\n",
    "\n",
    "#RR to flowrate\n",
    "def rotameter_to_flowrate(RR):\n",
    "    return 90*RR\n",
    "\n",
    "F2 = rotameter_to_flowrate(44) #Hot water flowrate\n",
    "F2 = 44*90"
   ]
  },
  {
   "cell_type": "markdown",
   "metadata": {},
   "source": [
    "## Find Value of Tau_s"
   ]
  },
  {
   "cell_type": "code",
   "execution_count": 4,
   "metadata": {},
   "outputs": [
    {
     "name": "stdout",
     "output_type": "stream",
     "text": [
      "5400\n"
     ]
    },
    {
     "data": {
      "image/png": "[encoded data removed]",
      "text/plain": [
       "<matplotlib.figure.Figure at 0x1062b1c10>"
      ]
     },
     "metadata": {},
     "output_type": "display_data"
    }
   ],
   "source": [
    "T0 = 121\n",
    "TS0 = 121\n",
    "\n",
    "#Find the value of F1\n",
    "F1_actuator = actuator_to_rotameter(35)\n",
    "F1 = rotameter_to_flowrate(F1_actuator) \n",
    "F1 = 60*90\n",
    "print(F1)\n",
    "#Define the temperature equation\n",
    "def temperature(t, tau_s):\n",
    "    alpha = (F1+F2)/V\n",
    "    #print('beta = ' + str(beta))\n",
    "    beta = (F1*T1+F2*T2)/V\n",
    "    #print('alpha = ' + str(alpha))\n",
    "    A = beta/alpha*tau_s\n",
    "    #print('A = ' + str(A))\n",
    "    B = (T0-beta/alpha)/(1/tau_s-alpha)\n",
    "    #print('B = ' + str(B))\n",
    "    C = TS0 - beta*tau_s/alpha -(T0-beta/alpha)/(1/tau_s-alpha)\n",
    "    #print('C = ' + str(simplify(C)))\n",
    "    T = A+B*np.exp(-alpha*t)+C*np.exp(-t/tau_s)\n",
    "    return T\n",
    "\n",
    "#Fit the temperature equation to the data to find tau_s\n",
    "open_loop_data = pd.read_csv('open_loop_data.csv')\n",
    "time = open_loop_data.Time\n",
    "sensor_data = open_loop_data.sensor_data\n",
    "popt, pcov = curve_fit(temperature, time, sensor_data)\n",
    "text = 'fit (Tau_s = ' + str(popt[0]) + ')'\n",
    "plt.plot(time, temperature(time, *popt), 'r-', label=text)\n",
    "plt.plot(time, sensor_data, 'g-', label='data')\n",
    "plt.xlabel('time (s)')\n",
    "plt.ylabel('sensor reading (deg C)')\n",
    "plt.legend()\n",
    "plt.show()"
   ]
  },
  {
   "cell_type": "code",
   "execution_count": null,
   "metadata": {},
   "outputs": [],
   "source": [
    "#Define the temperature equation\n",
    "def temperature(t, tau_s):\n",
    "    alpha = (F1+F2)/V\n",
    "    #print('beta = ' + str(beta))\n",
    "    beta = (F1*T1+F2*T2)/V\n",
    "    #print('alpha = ' + str(alpha))\n",
    "    A = beta/alpha*tau_s\n",
    "    #print('A = ' + str(A))\n",
    "    B = (T0-beta/alpha)/(1/tau_s-alpha)\n",
    "    #print('B = ' + str(B))\n",
    "    C = TS0 - beta*tau_s/alpha -(T0-beta/alpha)/(1/tau_s-alpha)\n",
    "    #print('C = ' + str(simplify(C)))\n",
    "    T = A+B*np.exp(-alpha*t)+C*np.exp(-t/tau_s)\n",
    "    return T"
   ]
  },
  {
   "cell_type": "code",
   "execution_count": null,
   "metadata": {},
   "outputs": [],
   "source": []
  }
 ],
 "metadata": {
  "kernelspec": {
   "display_name": "Python 2",
   "language": "python",
   "name": "python2"
  },
  "language_info": {
   "codemirror_mode": {
    "name": "ipython",
    "version": 2
   },
   "file_extension": ".py",
   "mimetype": "text/x-python",
   "name": "python",
   "nbconvert_exporter": "python",
   "pygments_lexer": "ipython2",
   "version": "2.7.13"
  }
 },
 "nbformat": 4,
 "nbformat_minor": 2
}
